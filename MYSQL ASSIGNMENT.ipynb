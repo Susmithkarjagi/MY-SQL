{
 "cells": [
  {
   "cell_type": "markdown",
   "id": "6078a679-a8d9-4a0c-a20b-b00dbfc92622",
   "metadata": {},
   "source": [
    "## MYSQL ASSIGNMENT"
   ]
  },
  {
   "cell_type": "markdown",
   "id": "f03c1050-d8c3-4db6-b0b2-3d7464213515",
   "metadata": {},
   "source": [
    "Q1. What is a database? Differentiate between SQL and NoSQL databases."
   ]
  },
  {
   "cell_type": "markdown",
   "id": "fd764522-11e6-473a-8b54-fb5e50f325c8",
   "metadata": {},
   "source": [
    "A database is an organized collection of data that is stored and accessed electronically. It is designed to facilitate data management and retrieval for various applications.\n",
    "\n",
    "SQL and NoSQL are two different types of databases that differ in their structure and approach to data management:\n",
    "\n",
    "SQL (Structured Query Language) databases are relational databases that use tables to store data. SQL databases are based on the relational model, where data is organized into tables, and relationships between tables are defined by primary and foreign keys. SQL databases are ideal for applications where data is structured and requires complex querying.\n",
    "\n",
    "NoSQL (Not only SQL) databases are non-relational databases that use a variety of data models to store and manage data. NoSQL databases are designed for applications that require scalability and flexibility in their data structures. NoSQL databases can handle large volumes of unstructured and semi-structured data, making them ideal for big data applications.\n",
    "\n",
    "The main differences between SQL and NoSQL databases are as follows:\n",
    "\n",
    "1. Data Model: SQL databases have a rigid, predefined data model based on tables, while NoSQL databases can have different data models such as key-value pairs, document-based, graph-based, or column-family based.\n",
    "\n",
    "2. Scalability: NoSQL databases are more scalable than SQL databases because they can easily handle large volumes of data and are designed to work in distributed environments.\n",
    "\n",
    "3. Querying: SQL databases use SQL to query data, while NoSQL databases use various APIs or query languages, depending on the data model used.\n",
    "\n",
    "4. Data Integrity: SQL databases enforce data integrity rules, such as constraints and foreign keys, to ensure data consistency, while NoSQL databases do not enforce such rules.\n",
    "\n",
    "5. ACID Compliance: SQL databases are generally ACID (Atomicity, Consistency, Isolation, Durability) compliant, which ensures that data transactions are reliable and consistent, while NoSQL databases may or may not be ACID compliant."
   ]
  },
  {
   "cell_type": "markdown",
   "id": "9a560e54-eb1a-4131-b82b-4026b7a41ff5",
   "metadata": {},
   "source": [
    "Q2. What is DDL? Explain why CREATE, DROP, ALTER, and TRUNCATE are used with an example."
   ]
  },
  {
   "cell_type": "markdown",
   "id": "e669a978-be81-4240-a238-9b0ec099512c",
   "metadata": {},
   "source": [
    "DDL (Data Definition Language) is a set of SQL statements used to define and manage the structure of database objects such as tables, indexes, and constraints. The four most commonly used DDL statements are CREATE, DROP, ALTER, and TRUNCATE, each of which serves a specific purpose:\n",
    "\n",
    "1. CREATE: The CREATE statement is used to create a new database object such as a table or index. For example, the following SQL statement creates a new table named \"customers\" with columns for customer ID, name, and email address:"
   ]
  },
  {
   "cell_type": "code",
   "execution_count": null,
   "id": "f5f3f7c0-deec-4348-a727-144f5915eadf",
   "metadata": {},
   "outputs": [],
   "source": [
    "CREATE TABLE customers (\n",
    "   customer_id INT PRIMARY KEY,\n",
    "   name VARCHAR(50),\n",
    "   email VARCHAR(50)\n",
    ");\n"
   ]
  },
  {
   "cell_type": "markdown",
   "id": "9840bfa3-886c-477e-b759-b079a5afcbb5",
   "metadata": {},
   "source": [
    "2. DROP: The DROP statement is used to remove a database object such as a table or index. For example, the following SQL statement drops the \"customers\" table:"
   ]
  },
  {
   "cell_type": "code",
   "execution_count": null,
   "id": "dcb74f82-5c4a-4a89-85cf-c1b14414518c",
   "metadata": {},
   "outputs": [],
   "source": [
    "DROP TABLE customers;\n"
   ]
  },
  {
   "cell_type": "markdown",
   "id": "c6265a6d-d606-4c78-a508-354b19159830",
   "metadata": {},
   "source": [
    "3. ALTER: The ALTER statement is used to modify the structure of a database object such as a table or index. For example, the following SQL statement adds a new column \"phone_number\" to the \"customers\" table:"
   ]
  },
  {
   "cell_type": "code",
   "execution_count": null,
   "id": "10ef68ba-9118-4bcc-8539-298cc9367dc6",
   "metadata": {},
   "outputs": [],
   "source": [
    "ALTER TABLE customers ADD COLUMN phone_number VARCHAR(20);\n"
   ]
  },
  {
   "cell_type": "markdown",
   "id": "36c421ba-feb3-49a6-abd9-ca5cfa49c57c",
   "metadata": {},
   "source": [
    "4. TRUNCATE: The TRUNCATE statement is used to remove all data from a table while keeping its structure intact. For example, the following SQL statement removes all data from the \"customers\" table:"
   ]
  },
  {
   "cell_type": "code",
   "execution_count": null,
   "id": "93c6a64e-4b72-4da5-aca6-512895b842e2",
   "metadata": {},
   "outputs": [],
   "source": [
    "TRUNCATE TABLE customers;\n"
   ]
  },
  {
   "cell_type": "markdown",
   "id": "16a146cf-1f33-4e7d-8992-3addce1f71b2",
   "metadata": {},
   "source": [
    "In summary, DDL statements such as CREATE, DROP, ALTER, and TRUNCATE are used to define, modify, and remove the structure of database objects. These statements are essential for managing the database schema and ensuring data integrity."
   ]
  },
  {
   "cell_type": "markdown",
   "id": "ddbe945b-a84b-4201-8bc3-05953df8d237",
   "metadata": {},
   "source": [
    "Q3. What is DML? Explain INSERT, UPDATE, and DELETE with an example."
   ]
  },
  {
   "cell_type": "markdown",
   "id": "6e3ee0ed-6f4a-46c7-939a-2e462ce9432c",
   "metadata": {},
   "source": [
    "DML (Data Manipulation Language) is a set of SQL statements used to manage the data within a database. The three most commonly used DML statements are INSERT, UPDATE, and DELETE, each of which serves a specific purpose:\n",
    "\n",
    "1. INSERT: The INSERT statement is used to insert new data into a table. For example, the following SQL statement inserts a new record into the \"customers\" table:"
   ]
  },
  {
   "cell_type": "code",
   "execution_count": null,
   "id": "e82b4204-4b7d-4574-8ba0-c975b5ba2ab1",
   "metadata": {},
   "outputs": [],
   "source": [
    "INSERT INTO customers (customer_id, name, email) VALUES (1, 'sush_karjagi', 'sushkarj@gmail.com');\n"
   ]
  },
  {
   "cell_type": "markdown",
   "id": "42ccde22-005d-42b1-9336-a7df67df5aa0",
   "metadata": {},
   "source": [
    "2. UPDATE: The UPDATE statement is used to modify existing data in a table. For example, the following SQL statement updates the email address of the customer with ID 1 in the \"customers\" table:"
   ]
  },
  {
   "cell_type": "code",
   "execution_count": null,
   "id": "e08a6084-f572-43d5-8bb2-f92fa1e30c14",
   "metadata": {},
   "outputs": [],
   "source": [
    "UPDATE customers SET email = 'sushkarj@gmail.com' WHERE customer_id = 1;\n"
   ]
  },
  {
   "cell_type": "markdown",
   "id": "4a6aee07-79d9-4b1b-94f0-1be400d4e872",
   "metadata": {},
   "source": [
    "3. DELETE: The DELETE statement is used to remove data from a table. For example, the following SQL statement deletes the customer with ID 1 from the \"customers\" table:"
   ]
  },
  {
   "cell_type": "code",
   "execution_count": null,
   "id": "0516edf4-0854-46a2-83bc-0001c0d393b8",
   "metadata": {},
   "outputs": [],
   "source": [
    "DELETE FROM customers WHERE customer_id = 1;\n"
   ]
  },
  {
   "cell_type": "markdown",
   "id": "5b745f63-5e30-4ad9-9463-8848bee48b59",
   "metadata": {},
   "source": [
    "Q4. What is DQL? Explain SELECT with an example."
   ]
  },
  {
   "cell_type": "markdown",
   "id": "f08658a8-897d-4690-8778-2c1b3f4b0c54",
   "metadata": {},
   "source": [
    "DQL (Data Query Language) is a set of SQL statements used to retrieve data from a database. The most commonly used DQL statement is SELECT, which is used to query data from one or more tables.\n",
    "\n",
    "The SELECT statement retrieves data from a table or view and returns a result set that can be displayed or used for further processing. The basic syntax of the SELECT statement is as follows:"
   ]
  },
  {
   "cell_type": "code",
   "execution_count": null,
   "id": "5d860497-bcfe-410e-9ad4-bd1dff3c6080",
   "metadata": {},
   "outputs": [],
   "source": [
    "SELECT column1, column2, ... FROM table_name;\n"
   ]
  },
  {
   "cell_type": "markdown",
   "id": "a3a45eb1-6b93-40e4-bbff-a3e3c13a7104",
   "metadata": {},
   "source": [
    "Here, \"column1, column2, ...\" are the names of the columns to retrieve, and \"table_name\" is the name of the table from which to retrieve data. For example, the following SQL statement retrieves all columns from the \"customers\" table:"
   ]
  },
  {
   "cell_type": "code",
   "execution_count": null,
   "id": "05d4c810-83db-4816-90a3-fdcf66fca6e4",
   "metadata": {},
   "outputs": [],
   "source": [
    "SELECT * FROM customers;\n"
   ]
  },
  {
   "cell_type": "markdown",
   "id": "8b48ab82-bbe4-4b48-8652-b125e6922b90",
   "metadata": {},
   "source": [
    "The SELECT statement can also include a WHERE clause to filter the results based on specific conditions. For example, the following SQL statement retrieves customers whose name is \"John Doe\":"
   ]
  },
  {
   "cell_type": "code",
   "execution_count": null,
   "id": "200d678d-76f5-439d-aaed-a838024cc985",
   "metadata": {},
   "outputs": [],
   "source": [
    "SELECT * FROM customers WHERE name = 'sush_karjagi';\n"
   ]
  },
  {
   "cell_type": "markdown",
   "id": "7c4ce041-51fc-41e4-992e-1372d0dd711b",
   "metadata": {},
   "source": [
    "In addition to filtering, the SELECT statement can also be used to aggregate data using functions such as SUM, COUNT, AVG, MIN, and MAX. For example, the following SQL statement retrieves the total number of customers in the \"customers\" table:"
   ]
  },
  {
   "cell_type": "code",
   "execution_count": null,
   "id": "e01cd410-87f7-4c2b-aebb-a19e546c0208",
   "metadata": {},
   "outputs": [],
   "source": [
    "SELECT COUNT(*) FROM customers;\n"
   ]
  },
  {
   "cell_type": "markdown",
   "id": "a8dcbad0-213e-4c82-af4c-8a370baadd9d",
   "metadata": {},
   "source": [
    "In summary, SELECT is a DQL statement used to retrieve data from a database. It can be used to retrieve data from one or more tables, filter the results based on specific conditions, and aggregate data using functions."
   ]
  },
  {
   "cell_type": "markdown",
   "id": "1cb09826-6bdc-444b-ab4f-32f1dbd5061b",
   "metadata": {},
   "source": [
    "Q5. Explain Primary Key and Foreign Key."
   ]
  },
  {
   "cell_type": "markdown",
   "id": "856d412a-7285-4a58-8fe5-7847cbe9908c",
   "metadata": {},
   "source": [
    "In a relational database, a primary key and a foreign key are two types of constraints that are used to establish relationships between tables.\n",
    "\n",
    "A primary key is a column or a set of columns in a table that uniquely identifies each row in that table. It is used to ensure that each row in the table can be uniquely identified and to enforce data integrity constraints. The primary key must be unique, not null, and must have a unique value for each row in the table.\n",
    "\n",
    "For example, in a table of customers, the \"customer_id\" column could be used as the primary key, as each customer would have a unique identifier.\n",
    "\n",
    "A foreign key is a column or a set of columns in one table that references the primary key of another table. It is used to establish a relationship between two tables based on the values of these columns. A foreign key constraint ensures that data in the child table corresponds to data in the parent table. In other words, it ensures that the values in the foreign key column exist in the primary key column of the referenced table.\n",
    "\n",
    "For example, in a table of orders, a \"customer_id\" column could be used as a foreign key to reference the \"customer_id\" column in the \"customers\" table. This establishes a relationship between the orders and the customers, ensuring that each order corresponds to a valid customer.\n",
    "\n",
    "In summary, a primary key is used to uniquely identify rows in a table, while a foreign key is used to establish a relationship between two tables based on the values of the primary key and foreign key columns. These constraints are essential for maintaining data integrity and ensuring consistency in a relational database."
   ]
  },
  {
   "cell_type": "markdown",
   "id": "cb6c2362-59fc-4369-bb64-4d741cee2829",
   "metadata": {},
   "source": [
    "Q6. Write a python code to connect MySQL to python. Explain the cursor() and execute() method."
   ]
  },
  {
   "cell_type": "markdown",
   "id": "1e513746-a2b6-46c6-b71a-30aa0bebbd27",
   "metadata": {},
   "source": [
    "To connect MySQL to Python, you can use the mysql-connector-python library. Here is a simple example code:"
   ]
  },
  {
   "cell_type": "code",
   "execution_count": null,
   "id": "a1756bba-7f21-4313-8d7e-36fc595c37ea",
   "metadata": {},
   "outputs": [],
   "source": [
    "import mysql.connector\n",
    "\n",
    "# Connect to the database\n",
    "mydb = mysql.connector.connect(\n",
    "  host=\"localhost\",\n",
    "  user=\"yourusername\",\n",
    "  password=\"yourpassword\",\n",
    "  database=\"yourdatabase\"\n",
    ")\n",
    "\n",
    "# Create a cursor object\n",
    "mycursor = mydb.cursor()\n",
    "\n",
    "# Execute a SQL query\n",
    "mycursor.execute(\"SELECT * FROM customers\")\n",
    "\n",
    "# Fetch the results\n",
    "results = mycursor.fetchall()\n",
    "\n",
    "# Print the results\n",
    "for result in results:\n",
    "  print(result)\n"
   ]
  },
  {
   "cell_type": "markdown",
   "id": "13fad0b1-0c2b-4a1f-b914-ecdaa45b05a8",
   "metadata": {},
   "source": [
    "In the above code, we first import the mysql.connector library and use it to connect to the MySQL database by providing the host, user, password, and database name. We then create a cursor object using the cursor() method, which allows us to execute SQL queries on the database.\n",
    "\n",
    "The execute() method is used to execute a SQL query on the database. It takes a SQL query as its parameter and returns the number of affected rows. In the above example, we execute a SELECT statement to retrieve all records from the \"customers\" table.\n",
    "\n",
    "After executing the query, we use the fetchall() method to retrieve all the rows returned by the query. This method returns a list of tuples, where each tuple represents a row of data. Finally, we loop through the results and print them to the console.\n",
    "\n",
    "In summary, the cursor() method is used to create a cursor object that allows us to execute SQL queries on the database, while the execute() method is used to execute a SQL query on the database. These methods are essential for working with databases in Python"
   ]
  },
  {
   "cell_type": "markdown",
   "id": "6b224453-2e44-47d2-bda1-35f3d00da1b2",
   "metadata": {},
   "source": [
    "Q7. Give the order of execution of SQL clauses in an SQL query."
   ]
  },
  {
   "cell_type": "markdown",
   "id": "2d610c6b-00b5-4cab-ad7d-564cf8e912fe",
   "metadata": {},
   "source": [
    "In an SQL query, the clauses are executed in the following order:\n",
    "\n",
    "FROM clause: The FROM clause specifies the tables or views from which to retrieve data. It is the first clause to be executed in an SQL query.\n",
    "\n",
    "WHERE clause: The WHERE clause filters the data retrieved from the tables based on specific conditions. It is executed after the FROM clause.\n",
    "\n",
    "GROUP BY clause: The GROUP BY clause groups the data retrieved from the tables based on one or more columns. It is executed after the WHERE clause.\n",
    "\n",
    "HAVING clause: The HAVING clause filters the grouped data based on specific conditions. It is executed after the GROUP BY clause.\n",
    "\n",
    "SELECT clause: The SELECT clause specifies the columns to retrieve from the tables or views. It is executed after the GROUP BY and HAVING clauses.\n",
    "\n",
    "ORDER BY clause: The ORDER BY clause sorts the retrieved data based on one or more columns. It is executed after the SELECT clause.\n",
    "\n",
    "LIMIT clause: The LIMIT clause limits the number of rows returned by the query. It is the last clause to be executed in an SQL query.\n",
    "\n",
    "In summary, the clauses in an SQL query are executed in the order: FROM, WHERE, GROUP BY, HAVING, SELECT, ORDER BY, and LIMIT."
   ]
  },
  {
   "cell_type": "code",
   "execution_count": null,
   "id": "a67a098d-ea39-42cb-bb3f-3885e5a7c6d0",
   "metadata": {},
   "outputs": [],
   "source": []
  }
 ],
 "metadata": {
  "kernelspec": {
   "display_name": "Python 3 (ipykernel)",
   "language": "python",
   "name": "python3"
  },
  "language_info": {
   "codemirror_mode": {
    "name": "ipython",
    "version": 3
   },
   "file_extension": ".py",
   "mimetype": "text/x-python",
   "name": "python",
   "nbconvert_exporter": "python",
   "pygments_lexer": "ipython3",
   "version": "3.10.8"
  }
 },
 "nbformat": 4,
 "nbformat_minor": 5
}
